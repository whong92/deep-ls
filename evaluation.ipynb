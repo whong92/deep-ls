{
 "cells": [
  {
   "cell_type": "code",
   "execution_count": 1,
   "metadata": {},
   "outputs": [],
   "source": [
    "COLAB_MODE = False\n",
    "SETUP_RUNTIME = False\n",
    "# google colab shenanigans\n",
    "if COLAB_MODE:\n",
    "    if SETUP_RUNTIME:\n",
    "        from google.colab import drive\n",
    "        drive.mount('/content/drive')\n",
    "        !pip install torch==1.11.0\n",
    "        !mkdir /content/data\n",
    "        !gdown 1-5W-S5e7CKsJ9uY9uVXIyxgbcZZNYBrp\n",
    "        !mv old-tsp-data.tar.gz /content/data/\n",
    "        !tar -xzvf data/old-tsp-data.tar.gz -C /content/data/\n",
    "\n",
    "        !git clone https://github.com/whong92/deep-ls.git\n",
    "        %cd deep-ls\n",
    "        !git checkout multi-sample-episodes\n",
    "    else:\n",
    "        %cd deep-ls\n",
    "\n",
    "    data_root = '/content/data/tsp-data/'\n",
    "    model_root = '/content/drive/MyDrive/colab_data/deep-ls/'\n",
    "else:\n",
    "    data_root = '../graph-convnet-tsp/data/'\n",
    "    model_root = '.'"
   ]
  },
  {
   "cell_type": "code",
   "execution_count": 2,
   "metadata": {},
   "outputs": [],
   "source": [
    "import cv2\n",
    "import numpy as np \n",
    "import matplotlib\n",
    "matplotlib.use('Agg')\n",
    "import matplotlib.pyplot as plt\n",
    "\n",
    "from deepls.TSP2OptEnv import TSP2OptMultiEnv, TSP2OptEnv\n",
    "\n",
    "font = cv2.FONT_HERSHEY_COMPLEX_SMALL"
   ]
  },
  {
   "cell_type": "code",
   "execution_count": 3,
   "metadata": {},
   "outputs": [],
   "source": [
    "from deepls.agent import AverageStateRewardBaselineAgent\n",
    "from torch import nn\n",
    "import torch\n",
    "from tqdm import tqdm\n",
    "import copy\n",
    "from PIL import Image"
   ]
  },
  {
   "cell_type": "code",
   "execution_count": 4,
   "metadata": {},
   "outputs": [],
   "source": [
    "NUM_INSTANCE_EVAL = 100\n",
    "NUM_SAMPLES_EVAL = 100\n",
    "MINIBATCH_SZ = 10\n",
    "RENDER = True\n",
    "NUM_RENDER = 10"
   ]
  },
  {
   "cell_type": "code",
   "execution_count": 8,
   "metadata": {},
   "outputs": [],
   "source": [
    "env = TSP2OptMultiEnv(\n",
    "    max_num_steps=20, \n",
    "    num_nodes=20, \n",
    "    data_f=f'{data_root}/tsp20_test_concorde.txt', \n",
    "    num_samples_per_batch=MINIBATCH_SZ,\n",
    "    same_instance_per_batch=True,\n",
    "    shuffle_data=True, \n",
    "    ret_log_tour_len=False\n",
    ")\n",
    "env.reset()"
   ]
  },
  {
   "cell_type": "code",
   "execution_count": 9,
   "metadata": {},
   "outputs": [],
   "source": [
    "agent_config = {\n",
    "    'replay_buffer_size': 3,\n",
    "    'minibatch_sz': 1,\n",
    "    'batch_sz': 1,\n",
    "    'policy_optimize_every': 2,\n",
    "    'critic_optimize_every': 1,\n",
    "    'model': {   \n",
    "        \"voc_edges_in\": 3,\n",
    "        \"hidden_dim\": 128,\n",
    "        \"num_layers\": 15,\n",
    "        \"mlp_layers\": 3,\n",
    "        \"aggregation\": \"mean\",\n",
    "        \"node_dim\": 2,\n",
    "        'dont_optimize_policy_steps': 1000,\n",
    "        'value_net_type': 'normal'\n",
    "    },\n",
    "    'optim': {\n",
    "        'step_size': 1e-7, \n",
    "        'step_size_critic': 2e-5,\n",
    "        'beta_m': 0.9, \n",
    "        'beta_v': 0.999,\n",
    "        'epsilon': 1e-8\n",
    "    },\n",
    "    'device': 'cpu'\n",
    "}"
   ]
  },
  {
   "cell_type": "code",
   "execution_count": 11,
   "metadata": {},
   "outputs": [],
   "source": [
    "agent = AverageStateRewardBaselineAgent()\n",
    "agent.agent_init(agent_config)"
   ]
  },
  {
   "cell_type": "code",
   "execution_count": 12,
   "metadata": {},
   "outputs": [],
   "source": [
    "agent.load(f'{model_root}/model-15-layer-RGCN-20-nodes-51999-val-0.016.ckpt', init_config=False)"
   ]
  },
  {
   "cell_type": "code",
   "execution_count": 13,
   "metadata": {},
   "outputs": [],
   "source": [
    "all_opt_gaps = []\n",
    "all_tour_lens = []\n",
    "all_opts = []\n",
    "all_states = []"
   ]
  },
  {
   "cell_type": "code",
   "execution_count": null,
   "metadata": {},
   "outputs": [],
   "source": [
    "for _ in range(NUM_INSTANCE_EVAL):\n",
    "    \n",
    "    tour_lens = []\n",
    "    opts = []\n",
    "    opt_gaps = []\n",
    "    state_list = [[] for _ in range(env.envs[0].max_num_steps + 1)]\n",
    "\n",
    "    agent.set_eval()\n",
    "    agent.set_greedy(False)\n",
    "    pbar = tqdm(range(NUM_SAMPLES_EVAL // MINIBATCH_SZ))\n",
    "    env.reset(fetch_next=True)\n",
    "    for episode in pbar:\n",
    "        env.reset(fetch_next=False)\n",
    "        states = env.get_state()\n",
    "        if RENDER and len(all_states) < NUM_RENDER:\n",
    "            state_list[env.envs[0].cur_step].extend(copy.deepcopy(states))\n",
    "        actions = agent.agent_start(states)\n",
    "        # avg_starts.append(np.mean([state[0].tour_len for state in states]))\n",
    "        while True:\n",
    "            # Take a random action\n",
    "            rets = env.step(actions)\n",
    "            states = [ret[0] for ret in rets]\n",
    "            rewards = [ret[1] for ret in rets]\n",
    "            dones = [ret[2] for ret in rets]\n",
    "            if RENDER and len(all_states) < NUM_RENDER:\n",
    "                state_list[env.envs[0].cur_step].extend(copy.deepcopy(states))\n",
    "\n",
    "            if dones[0] == True:\n",
    "                agent.agent_end(rewards)\n",
    "                tour_lens.extend([state[1].tour_len for state in states])\n",
    "                opts.extend([state[0].opt_tour_len for state in states])\n",
    "                opt_gaps.extend(\n",
    "                    [(state[1].tour_len / state[0].opt_tour_len) - 1. for state in states]\n",
    "                )\n",
    "                break\n",
    "            else:\n",
    "                actions = agent.agent_step(rewards, states)\n",
    "    \n",
    "    all_opt_gaps.append(opt_gaps)\n",
    "    all_tour_lens.append(tour_lens)\n",
    "    all_opts.append(opts)\n",
    "    if RENDER and len(all_states) < NUM_RENDER:\n",
    "        all_states.append(state_list)"
   ]
  },
  {
   "cell_type": "code",
   "execution_count": 19,
   "metadata": {},
   "outputs": [],
   "source": [
    "best_samples = np.argmin(all_opt_gaps, axis=1)"
   ]
  },
  {
   "cell_type": "code",
   "execution_count": 12,
   "metadata": {},
   "outputs": [],
   "source": [
    "if RENDER:\n",
    "    for instance in range(len(all_states)):\n",
    "        b = best_samples[instance]\n",
    "        instance_episode_states = all_states[instance]\n",
    "        for episode in range(len(instance_episode_states)):\n",
    "            best_sample_state = instance_episode_states[episode][b]\n",
    "            img = best_sample_state[0].render(mode='rgb_array')\n",
    "            img_best_state = best_sample_state[1].render(mode='rgb_array')\n",
    "            img = np.concatenate([img, img_best_state], axis=1)\n",
    "            img = img[:, :, [2,1,0]]\n",
    "            img = Image.fromarray(img)\n",
    "            img.save(f'{model_root}/renders/render_instance_{instance:03d}_ep_{episode:03d}.jpg')"
   ]
  },
  {
   "cell_type": "code",
   "execution_count": null,
   "metadata": {},
   "outputs": [],
   "source": [
    "best_opt_gaps = np.min(all_opt_gaps, axis=1)"
   ]
  },
  {
   "cell_type": "code",
   "execution_count": null,
   "metadata": {},
   "outputs": [],
   "source": [
    "all_opt_gaps = np.array(all_opt_gaps)"
   ]
  },
  {
   "cell_type": "code",
   "execution_count": null,
   "metadata": {},
   "outputs": [],
   "source": [
    "num_samples_to_consider = [1, 10, 20, 50, 100]\n",
    "mean_best_opt_gaps = []\n",
    "for n in num_samples_to_consider:\n",
    "    mean_best_opt_gaps.append(\n",
    "        np.mean(np.min(all_opt_gaps[:, :n], axis=1))\n",
    "    )"
   ]
  },
  {
   "cell_type": "code",
   "execution_count": null,
   "metadata": {},
   "outputs": [],
   "source": [
    "plt.figure()\n",
    "plt.plot(num_samples_to_consider, mean_best_opt_gaps, '-o')\n",
    "plt.grid()\n",
    "plt.title('optimality gap vs samples for tsp n=100')\n",
    "plt.savefig(f'{model_root}/plot.jpg')"
   ]
  },
  {
   "cell_type": "code",
   "execution_count": null,
   "metadata": {},
   "outputs": [],
   "source": [
    "np.mean(best_opt_gaps)"
   ]
  }
 ],
 "metadata": {
  "kernelspec": {
   "display_name": "Python 3",
   "language": "python",
   "name": "python3"
  },
  "language_info": {
   "codemirror_mode": {
    "name": "ipython",
    "version": 3
   },
   "file_extension": ".py",
   "mimetype": "text/x-python",
   "name": "python",
   "nbconvert_exporter": "python",
   "pygments_lexer": "ipython3",
   "version": "3.8.5"
  }
 },
 "nbformat": 4,
 "nbformat_minor": 4
}
