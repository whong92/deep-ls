{
 "cells": [
  {
   "cell_type": "code",
   "execution_count": 1,
   "metadata": {},
   "outputs": [],
   "source": [
    "import cv2\n",
    "import numpy as np \n",
    "import matplotlib\n",
    "import matplotlib.pyplot as plt\n",
    "\n",
    "from deepls.TSP2OptEnv import TSP2OptEnv\n",
    "\n",
    "font = cv2.FONT_HERSHEY_COMPLEX_SMALL"
   ]
  },
  {
   "cell_type": "code",
   "execution_count": 2,
   "metadata": {},
   "outputs": [],
   "source": [
    "from deepls.agent import GRCNRollingBaselineAgent\n",
    "from torch import nn\n",
    "import torch\n",
    "from tqdm import tqdm"
   ]
  },
  {
   "cell_type": "code",
   "execution_count": 3,
   "metadata": {},
   "outputs": [],
   "source": [
    "env = TSP2OptEnv(max_num_steps=20, num_nodes=20, data_f='../graph-convnet-tsp/data/tsp20_test_concorde.txt', shuffle_data=True)\n",
    "env.reset()"
   ]
  },
  {
   "cell_type": "code",
   "execution_count": 9,
   "metadata": {},
   "outputs": [],
   "source": [
    "agent_config = {\n",
    "    'replay_buffer_size': 2,\n",
    "    'minibatch_sz': 32,\n",
    "    'model': {   \n",
    "        \"voc_edges_in\": 3,\n",
    "        \"hidden_dim\": 128,\n",
    "        \"num_layers\": 15,\n",
    "        \"mlp_layers\": 3,\n",
    "        \"aggregation\": \"mean\",\n",
    "        \"node_dim\": 2,\n",
    "        'dont_optimize_policy_steps': 100,\n",
    "    },\n",
    "    'optim': {\n",
    "        'step_size': 1e-7, \n",
    "        'step_size_critic': 0.005,\n",
    "        'beta_m': 0.9, \n",
    "        'beta_v': 0.999,\n",
    "        'epsilon': 1e-8\n",
    "    },\n",
    "    'device': 'cuda'\n",
    "}"
   ]
  },
  {
   "cell_type": "code",
   "execution_count": 10,
   "metadata": {},
   "outputs": [],
   "source": [
    "agent = GRCNRollingBaselineAgent()\n",
    "agent.agent_init(agent_config)"
   ]
  },
  {
   "cell_type": "code",
   "execution_count": 11,
   "metadata": {},
   "outputs": [],
   "source": [
    "ckpt = torch.load('model-15-layer-RGCN-20-nodes-2022-06-11.ckpt', map_location=agent.device)"
   ]
  },
  {
   "cell_type": "code",
   "execution_count": 12,
   "metadata": {},
   "outputs": [],
   "source": [
    "agent.net.load_state_dict(ckpt['net'])\n",
    "agent.critic_baseline = 0."
   ]
  },
  {
   "cell_type": "code",
   "execution_count": 29,
   "metadata": {},
   "outputs": [],
   "source": [
    "best_opt_gaps = []\n",
    "all_opt_gaps = []"
   ]
  },
  {
   "cell_type": "code",
   "execution_count": 30,
   "metadata": {},
   "outputs": [
    {
     "name": "stderr",
     "output_type": "stream",
     "text": [
      "100%|██████████| 1000/1000 [04:27<00:00,  3.74it/s]\n",
      "100%|██████████| 1000/1000 [04:29<00:00,  3.71it/s]\n",
      "100%|██████████| 1000/1000 [04:29<00:00,  3.72it/s]\n",
      "100%|██████████| 1000/1000 [04:27<00:00,  3.74it/s]\n",
      "100%|██████████| 1000/1000 [04:28<00:00,  3.72it/s]\n",
      "100%|██████████| 1000/1000 [04:26<00:00,  3.75it/s]\n",
      "100%|██████████| 1000/1000 [04:24<00:00,  3.78it/s]\n",
      "100%|██████████| 1000/1000 [04:29<00:00,  3.70it/s]\n",
      "100%|██████████| 1000/1000 [04:35<00:00,  3.63it/s]\n",
      "100%|██████████| 1000/1000 [04:37<00:00,  3.60it/s]\n"
     ]
    }
   ],
   "source": [
    "for _ in range(10):\n",
    "    \n",
    "    # re-instantiate the agent\n",
    "    agent = GRCNRollingBaselineAgent()\n",
    "    agent.agent_init(agent_config)\n",
    "    agent.net.load_state_dict(ckpt['net'])\n",
    "    agent.critic_baseline = 0.\n",
    "    \n",
    "    rewards = []\n",
    "    starts = []\n",
    "    opts = []\n",
    "    env.reset(fetch_next=True)\n",
    "    rolling_baseline = env.state.tour_len\n",
    "    rbs = []\n",
    "    critic_baseline = []\n",
    "    per_improve = []\n",
    "    ve_error = []\n",
    "\n",
    "    agent.set_train()\n",
    "    for episode in tqdm(range(1000)):\n",
    "        env.reset(fetch_next=False)\n",
    "        state = env.get_state()\n",
    "        action = agent.agent_start(state)\n",
    "        starts.append(state[0].tour_len)\n",
    "        best = float(\"inf\")\n",
    "        while True:\n",
    "            # Take a random action\n",
    "            state, reward, done = env.step(action)\n",
    "\n",
    "            if done == True:\n",
    "                agent.agent_end(reward)\n",
    "                reward = state[1].tour_len\n",
    "                rewards.append(reward)\n",
    "                # best_baseline = max(best_baseline, reward)\n",
    "                rolling_baseline = agent.critic_baseline\n",
    "                # agent.rolling_baseline = rolling_baseline\n",
    "                per_improve.append(-reward / starts[-1])\n",
    "                rbs.append(rolling_baseline)\n",
    "                ve_error.append(agent.critic_abs_err)\n",
    "                opts.append(state[0].opt_tour_len)\n",
    "                break\n",
    "            else:\n",
    "                action = agent.agent_step(reward, state)\n",
    "    \n",
    "    opt_gap = rewards / np.array(opts) - 1.\n",
    "    best_opt_gaps.append(np.min(opt_gap))\n",
    "    all_opt_gaps.append(opt_gap)"
   ]
  },
  {
   "cell_type": "raw",
   "metadata": {},
   "source": [
    "best_opt_gaps"
   ]
  },
  {
   "cell_type": "code",
   "execution_count": 18,
   "metadata": {},
   "outputs": [
    {
     "data": {
      "text/plain": [
       "0.004298742840812575"
      ]
     },
     "execution_count": 18,
     "metadata": {},
     "output_type": "execute_result"
    }
   ],
   "source": [
    "np.mean(best_opt_gaps)"
   ]
  },
  {
   "cell_type": "code",
   "execution_count": 28,
   "metadata": {},
   "outputs": [
    {
     "data": {
      "text/plain": [
       "0.01180414803937313"
      ]
     },
     "execution_count": 28,
     "metadata": {},
     "output_type": "execute_result"
    },
    {
     "data": {
      "image/png": "[encoded data removed]",
      "text/plain": [
       "<Figure size 432x288 with 1 Axes>"
      ]
     },
     "metadata": {
      "needs_background": "light"
     },
     "output_type": "display_data"
    }
   ],
   "source": [
    "opt_gap = all_opt_gaps[0]\n",
    "ma_opt_gap = np.convolve(np.array(opt_gap), np.ones(shape=(100,))/100., mode='valid')\n",
    "plt.plot(opt_gap)\n",
    "plt.plot(ma_opt_gap)\n",
    "plt.ylim([0., 0.3])\n",
    "np.min(opt_gap)"
   ]
  },
  {
   "cell_type": "code",
   "execution_count": null,
   "metadata": {},
   "outputs": [],
   "source": []
  }
 ],
 "metadata": {
  "kernelspec": {
   "display_name": "Python 3",
   "language": "python",
   "name": "python3"
  },
  "language_info": {
   "codemirror_mode": {
    "name": "ipython",
    "version": 3
   },
   "file_extension": ".py",
   "mimetype": "text/x-python",
   "name": "python",
   "nbconvert_exporter": "python",
   "pygments_lexer": "ipython3",
   "version": "3.8.5"
  }
 },
 "nbformat": 4,
 "nbformat_minor": 4
}
